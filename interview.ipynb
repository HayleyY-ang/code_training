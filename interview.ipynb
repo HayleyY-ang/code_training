{
 "cells": [
  {
   "cell_type": "code",
   "execution_count": 50,
   "metadata": {},
   "outputs": [],
   "source": [
    "import numpy as np\n"
   ]
  },
  {
   "cell_type": "code",
   "execution_count": 55,
   "metadata": {},
   "outputs": [
    {
     "name": "stdout",
     "output_type": "stream",
     "text": [
      "1 1 1 1\n",
      "[1, 2, 3, 7, 11, 10, 9, 5, 6]\n"
     ]
    }
   ],
   "source": [
    "# 矩阵数据螺旋形状\n",
    "matrix = [[1,2,3,4],[5,6,7,8],[9,10,11,12],[13,14,15,16]]\n",
    "m = np.array(matrix)\n",
    "# matrix = [[1,2,3],[5,6,7],[9,10,11]]\n",
    "# m = np.array(matrix)\n",
    "a = 0\n",
    "b = m.shape[0]-1\n",
    "c = m.shape[1]-1\n",
    "d = 0\n",
    "output = []\n",
    "while a<c-1 or b<d-1:\n",
    "    output.extend(m[a,d:b+1].tolist())\n",
    "    a+=1\n",
    "    output.extend(m[a:c+1,b].tolist())\n",
    "    b-=1\n",
    "    output.extend(m[c,d:b+1][::-1].tolist())\n",
    "    c-=1\n",
    "    output.extend(m[a:c+1,d][::-1].tolist())\n",
    "    d+=1\n",
    "    print(a,b,c,d)\n",
    "if len(m)%2==0:\n",
    "    output.extend([m[a,d],m[a,b],m[c,b],m[c,d]])\n",
    "else:\n",
    "    output.append(m[a,d])\n",
    "\n",
    "print(output)"
   ]
  },
  {
   "cell_type": "code",
   "execution_count": null,
   "metadata": {},
   "outputs": [],
   "source": [
    "class Solution:\n",
    "    def spiralOrder(self, matrix: List[List[int]]) -> List[int]:\n",
    "            \n",
    "            left,right =0,len(matrix[0])\n",
    "\n",
    "            top,bottom =0,len(matrix)\n",
    "\n",
    "            res = []\n",
    "\n",
    "            while left < right and top < bottom:\n",
    "\n",
    "                for i in range(left,right):\n",
    "                    res.append(matrix[top][i])\n",
    "\n",
    "                top += 1\n",
    "\n",
    "\n",
    "                for i in range(top,bottom):\n",
    "                    res.append(matrix[i][right-1])\n",
    "\n",
    "                right -= 1\n",
    "\n",
    "                if left >= right or top >= bottom:\n",
    "                    break\n",
    "\n",
    "                for i in range(right-1, left-1, -1):\n",
    "                    res.append(matrix[bottom-1][i])\n",
    "\n",
    "                bottom -= 1\n",
    "\n",
    "                for i in range(bottom-1,top-1,-1):\n",
    "                    res.append(matrix[i][left])\n",
    "\n",
    "                left += 1\n",
    "\n",
    "            return res"
   ]
  }
 ],
 "metadata": {
  "interpreter": {
   "hash": "d883e9debe2e95ce769b2428eeee03902ffd36934121b8b95fc5809f7239b6b8"
  },
  "kernelspec": {
   "display_name": "Python 3.8.8 64-bit ('base': conda)",
   "language": "python",
   "name": "python3"
  },
  "language_info": {
   "codemirror_mode": {
    "name": "ipython",
    "version": 3
   },
   "file_extension": ".py",
   "mimetype": "text/x-python",
   "name": "python",
   "nbconvert_exporter": "python",
   "pygments_lexer": "ipython3",
   "version": "3.8.8"
  },
  "orig_nbformat": 4
 },
 "nbformat": 4,
 "nbformat_minor": 2
}
