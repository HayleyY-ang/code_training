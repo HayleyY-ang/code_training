{
 "cells": [
  {
   "cell_type": "code",
   "execution_count": 2,
   "metadata": {},
   "outputs": [],
   "source": [
    "import numpy as np\n"
   ]
  },
  {
   "cell_type": "markdown",
   "metadata": {},
   "source": [
    "# [0,1,0,9] 位置为0插数的题目"
   ]
  },
  {
   "cell_type": "code",
   "execution_count": 23,
   "metadata": {},
   "outputs": [
    {
     "name": "stdout",
     "output_type": "stream",
     "text": [
      "4\n",
      "6\n",
      "15\n",
      "7746845855\n"
     ]
    }
   ],
   "source": [
    "class Solution:\n",
    "   \n",
    "    def count(self,s,p,dp):\n",
    "        if dp[s][p]!=0:\n",
    "            return dp[s][p]\n",
    "        if s==1:\n",
    "            dp[s][p]=p\n",
    "            return p\n",
    "        if p==1:\n",
    "            dp[s][p]=1\n",
    "            return 1\n",
    "        for k in range(1,p+1):\n",
    "            dp[s][p] = dp[s][p]+self.count(s-1,k,dp)\n",
    "        return dp[s][p]\n",
    "    def FillArray(self , a , k ):\n",
    "        left  = 1\n",
    "        length = 0\n",
    "        ans = 1\n",
    "        dp = [ [ 0 for i in range(k+1) ] for j in range(len(a)+1) ]\n",
    "        for i in range(len(a)):\n",
    "            if a[i]==0:\n",
    "                length+=1\n",
    "            else:\n",
    "                if length!=0:\n",
    "                    ans = ans*self.count(length,a[i]-left+1,dp)\n",
    "                length = 0\n",
    "                left = a[i]\n",
    "        if length!=0:\n",
    "            ans = ans*self.count(length,k-left+1,dp)\n",
    "        return int(ans)\n",
    "\n",
    "s = Solution()\n",
    "print(s.FillArray([0,4,5],6))\n",
    "print(s.FillArray([1,0,0],3))\n",
    "print(s.FillArray([0,0,5],10))\n",
    "print(s.FillArray([0,0,0,0,0,67,0,0],100))\n"
   ]
  },
  {
   "cell_type": "markdown",
   "metadata": {},
   "source": [
    "# 矩阵数据螺旋形状"
   ]
  },
  {
   "cell_type": "code",
   "execution_count": 4,
   "metadata": {},
   "outputs": [
    {
     "name": "stdout",
     "output_type": "stream",
     "text": [
      "1 2 2 1\n",
      "[1, 2, 3, 4, 8, 12, 16, 15, 14, 13, 9, 5, 6, 7, 11, 10]\n"
     ]
    }
   ],
   "source": [
    "# 矩阵数据螺旋形状\n",
    "matrix = [[1,2,3,4],[5,6,7,8],[9,10,11,12],[13,14,15,16]]\n",
    "m = np.array(matrix)\n",
    "# matrix = [[1,2,3],[5,6,7],[9,10,11]]\n",
    "# m = np.array(matrix)\n",
    "a = 0\n",
    "b = m.shape[0]-1\n",
    "c = m.shape[1]-1\n",
    "d = 0\n",
    "output = []\n",
    "while a<c-1 or b<d-1:\n",
    "    output.extend(m[a,d:b+1].tolist())\n",
    "    a+=1\n",
    "    output.extend(m[a:c+1,b].tolist())\n",
    "    b-=1\n",
    "    output.extend(m[c,d:b+1][::-1].tolist())\n",
    "    c-=1\n",
    "    output.extend(m[a:c+1,d][::-1].tolist())\n",
    "    d+=1\n",
    "    print(a,b,c,d)\n",
    "if len(m)%2==0:\n",
    "    output.extend([m[a,d],m[a,b],m[c,b],m[c,d]])\n",
    "else:\n",
    "    output.append(m[a,d])\n",
    "\n",
    "print(output)"
   ]
  },
  {
   "cell_type": "markdown",
   "metadata": {},
   "source": [
    "链接：https://www.nowcoder.com/questionTerminal/5ad3f49d4fdb45679f8c5280101cdecd\n",
    "来源：牛客网\n",
    "\n",
    "现有 nn 个城市，这 nn 个城市构成了一棵树，即这 nn 个城市中有 n-1n−1 条边，每条边都连接着两个不同的城市，使得从任意一个城市出发，通过若干条边能达到其它任意一个城市，且每个城市ii都有一个正整数值 a_ia \n",
    "i\n",
    "​\n",
    "  代表这个城市的人口密集度。\n",
    "\n",
    "突然某天瘟疫爆发，瘟疫会在人口密集度大于或等于 hh 的城市中肆意横行，这些城市会进行封城，与这些城市相连的边都会被切断。这时这棵树就会被切分为若干连通块，同一个连通块中的城市之间可以通过若干条边互相达到。\n",
    "\n",
    "政府为了稳定局势，想请你求出在瘟疫爆发后城市形成的连通块的数量小于等于 mm 的情况下， hh 的最小值可以是多少，当hh的值可以无穷小时，输出-1−1。\n",
    "\n",
    "\n",
    "5 3  # n,m\n",
    "\n",
    "1 2 3 4 5  # line\n",
    "\n",
    "1 2  # array\n",
    "\n",
    "1 4\n",
    "\n",
    "2 3\n",
    "\n",
    "2 5\n",
    "\n",
    "5 2\n",
    "1 2 3 4 5\n",
    "1 2\n",
    "2 5\n",
    "5 3\n",
    "4 1"
   ]
  },
  {
   "cell_type": "code",
   "execution_count": 5,
   "metadata": {},
   "outputs": [
    {
     "ename": "KeyError",
     "evalue": "5",
     "output_type": "error",
     "traceback": [
      "\u001b[1;31m---------------------------------------------------------------------------\u001b[0m",
      "\u001b[1;31mKeyError\u001b[0m                                  Traceback (most recent call last)",
      "\u001b[1;32m<ipython-input-5-e5410259f88c>\u001b[0m in \u001b[0;36m<module>\u001b[1;34m\u001b[0m\n\u001b[0;32m     44\u001b[0m         \u001b[0marray\u001b[0m\u001b[1;33m.\u001b[0m\u001b[0mappend\u001b[0m\u001b[1;33m(\u001b[0m\u001b[0mlists\u001b[0m\u001b[1;33m)\u001b[0m\u001b[1;33m\u001b[0m\u001b[1;33m\u001b[0m\u001b[0m\n\u001b[0;32m     45\u001b[0m     \u001b[0ms\u001b[0m \u001b[1;33m=\u001b[0m \u001b[0mSolution\u001b[0m\u001b[1;33m(\u001b[0m\u001b[1;33m)\u001b[0m\u001b[1;33m\u001b[0m\u001b[1;33m\u001b[0m\u001b[0m\n\u001b[1;32m---> 46\u001b[1;33m     \u001b[0mans\u001b[0m \u001b[1;33m=\u001b[0m \u001b[0ms\u001b[0m\u001b[1;33m.\u001b[0m\u001b[0mminValueofh\u001b[0m\u001b[1;33m(\u001b[0m\u001b[0mn\u001b[0m\u001b[1;33m,\u001b[0m \u001b[0mm\u001b[0m\u001b[1;33m,\u001b[0m \u001b[0mline\u001b[0m\u001b[1;33m,\u001b[0m \u001b[0marray\u001b[0m\u001b[1;33m)\u001b[0m\u001b[1;33m\u001b[0m\u001b[1;33m\u001b[0m\u001b[0m\n\u001b[0m\u001b[0;32m     47\u001b[0m     \u001b[0mprint\u001b[0m\u001b[1;33m(\u001b[0m\u001b[0mans\u001b[0m\u001b[1;33m)\u001b[0m\u001b[1;33m\u001b[0m\u001b[1;33m\u001b[0m\u001b[0m\n",
      "\u001b[1;32m<ipython-input-5-e5410259f88c>\u001b[0m in \u001b[0;36mminValueofh\u001b[1;34m(self, n, m, line, array)\u001b[0m\n\u001b[0;32m      7\u001b[0m             \u001b[0mdic\u001b[0m\u001b[1;33m[\u001b[0m\u001b[0mb\u001b[0m\u001b[1;33m]\u001b[0m\u001b[1;33m.\u001b[0m\u001b[0mappend\u001b[0m\u001b[1;33m(\u001b[0m\u001b[0ma\u001b[0m\u001b[1;33m)\u001b[0m\u001b[1;33m\u001b[0m\u001b[1;33m\u001b[0m\u001b[0m\n\u001b[0;32m      8\u001b[0m         \u001b[1;32mfor\u001b[0m \u001b[0mi\u001b[0m \u001b[1;32min\u001b[0m \u001b[0mrange\u001b[0m\u001b[1;33m(\u001b[0m\u001b[0mm\u001b[0m\u001b[1;33m,\u001b[0m \u001b[1;36m0\u001b[0m\u001b[1;33m,\u001b[0m \u001b[1;33m-\u001b[0m\u001b[1;36m1\u001b[0m\u001b[1;33m)\u001b[0m\u001b[1;33m:\u001b[0m\u001b[1;33m\u001b[0m\u001b[1;33m\u001b[0m\u001b[0m\n\u001b[1;32m----> 9\u001b[1;33m             \u001b[1;32mif\u001b[0m \u001b[1;32mnot\u001b[0m \u001b[0mself\u001b[0m\u001b[1;33m.\u001b[0m\u001b[0mcheck\u001b[0m\u001b[1;33m(\u001b[0m\u001b[0mi\u001b[0m\u001b[1;33m,\u001b[0m \u001b[0mline\u001b[0m\u001b[1;33m,\u001b[0m \u001b[0mdic\u001b[0m\u001b[1;33m)\u001b[0m\u001b[1;33m:\u001b[0m\u001b[1;33m\u001b[0m\u001b[1;33m\u001b[0m\u001b[0m\n\u001b[0m\u001b[0;32m     10\u001b[0m                 \u001b[1;32mcontinue\u001b[0m\u001b[1;33m\u001b[0m\u001b[1;33m\u001b[0m\u001b[0m\n\u001b[0;32m     11\u001b[0m             \u001b[1;32melse\u001b[0m\u001b[1;33m:\u001b[0m\u001b[1;33m\u001b[0m\u001b[1;33m\u001b[0m\u001b[0m\n",
      "\u001b[1;32m<ipython-input-5-e5410259f88c>\u001b[0m in \u001b[0;36mcheck\u001b[1;34m(self, i, line, dic)\u001b[0m\n\u001b[0;32m     28\u001b[0m                             \u001b[0mk\u001b[0m \u001b[1;33m+=\u001b[0m \u001b[1;36m1\u001b[0m\u001b[1;33m\u001b[0m\u001b[1;33m\u001b[0m\u001b[0m\n\u001b[0;32m     29\u001b[0m                         \u001b[1;32melse\u001b[0m\u001b[1;33m:\u001b[0m\u001b[1;33m\u001b[0m\u001b[1;33m\u001b[0m\u001b[0m\n\u001b[1;32m---> 30\u001b[1;33m                             \u001b[0mk\u001b[0m \u001b[1;33m+=\u001b[0m \u001b[0mfather\u001b[0m\u001b[1;33m[\u001b[0m\u001b[0mf\u001b[0m\u001b[1;33m]\u001b[0m\u001b[1;33m\u001b[0m\u001b[1;33m\u001b[0m\u001b[0m\n\u001b[0m\u001b[0;32m     31\u001b[0m                     \u001b[1;32melse\u001b[0m\u001b[1;33m:\u001b[0m\u001b[1;33m\u001b[0m\u001b[1;33m\u001b[0m\u001b[0m\n\u001b[0;32m     32\u001b[0m                         \u001b[1;32mcontinue\u001b[0m\u001b[1;33m\u001b[0m\u001b[1;33m\u001b[0m\u001b[0m\n",
      "\u001b[1;31mKeyError\u001b[0m: 5"
     ]
    }
   ],
   "source": [
    "class Solution:\n",
    "    def minValueofh(self, n, m, line, array):\n",
    "        from collections import defaultdict\n",
    "        dic = defaultdict(list)\n",
    "        for a, b in array:\n",
    "            dic[a].append(b)\n",
    "            dic[b].append(a)\n",
    "        for i in range(m, 0, -1):\n",
    "            if not self.check(i, line, dic):\n",
    "                continue\n",
    "            else:\n",
    "                return self.check(i, line, dic)\n",
    "        return -1\n",
    "    def check(self, i, line, dic):\n",
    "        leaf = []\n",
    "        father = {}\n",
    "        k = 1\n",
    "        for f, s in dic.items():\n",
    "            if len(s) == 1:\n",
    "                leaf.append(f)\n",
    "            else:\n",
    "                father[f] = len(s)\n",
    "                flag = max(line) + 1\n",
    "            while flag > 0:\n",
    "                for f, s in dic.items():\n",
    "                    if line[f-1] >= flag:\n",
    "                        if f in leaf:\n",
    "                            k += 1\n",
    "                        else:\n",
    "                            k += father[f]\n",
    "                    else:\n",
    "                        continue\n",
    "                if i == k:\n",
    "                    return flag\n",
    "                flag -= 1\n",
    "            return 0\n",
    "if __name__ == \"__main__\":\n",
    "     \n",
    "    [n, m] = list(map(int, input().split()))\n",
    "    line = list(map(int, input().split()))\n",
    "    array = []\n",
    "    for _ in range(n-1):\n",
    "        lists = list(map(int, input().split()))\n",
    "        array.append(lists)\n",
    "    s = Solution()\n",
    "    ans = s.minValueofh(n, m, line, array)\n",
    "    print(ans)"
   ]
  },
  {
   "cell_type": "code",
   "execution_count": null,
   "metadata": {},
   "outputs": [],
   "source": [
    "#解法：并查集，先按题目给的城市关系集合进行连接，\n",
    "#根据城市人口密度从大到小进行排序然后从开始剔除密度最高的城市进而更新城市关系集合再次重构并查集，\n",
    "#直到连通数大于m，记录每次更新的城市中密度最高的然后加1形成一个每个连通数对应的h值列表，\n",
    "#表中的最小值即是答案\n",
    "#题目给的测试数据不符合题目给的输入要求所以我只测了示例，\n",
    "class UnionFind(object):\n",
    "    def __init__(self, n):\n",
    "        \"\"\"长度为n的并查集\"\"\"\n",
    "        self.uf = [-1 for i in range(n + 1)]  # 列表0位置空出\n",
    "        self.sets_count = n  # 判断并查集里共有几个集合, 初始化默认互相独立\n",
    "\n",
    "    def find(self, p):\n",
    "        \"\"\"尾递归\"\"\"\n",
    "        if self.uf[p] < 0:\n",
    "            return p\n",
    "        self.uf[p] = self.find(self.uf[p])\n",
    "        return self.uf[p]\n",
    "\n",
    "    def union(self, p, q):\n",
    "        \"\"\"连通p,q 让q指向p\"\"\"\n",
    "        proot = self.find(p)\n",
    "        qroot = self.find(q)\n",
    "        if proot == qroot:\n",
    "            return\n",
    "        elif self.uf[proot] > self.uf[qroot]:  # 负数比较, 左边规模更小\n",
    "            self.uf[qroot] += self.uf[proot]\n",
    "            self.uf[proot] = qroot\n",
    "        else:\n",
    "            self.uf[proot] += self.uf[qroot]  # 规模相加\n",
    "            self.uf[qroot] = proot\n",
    "        self.sets_count -= 1  # 连通后集合总数减一\n",
    "\n",
    "    def is_connected(self, p, q):\n",
    "        \"\"\"判断pq是否已经连通\"\"\"\n",
    "        return self.find(p) == self.find(q)  # 即判断两个结点是否是属于同一个祖先\n",
    "\n",
    "n, m = map(int, input().split(' '))\n",
    "if n <= m:\n",
    "    print(-1)\n",
    "else:\n",
    "    r = list(map(int, input().split(' ')))\n",
    "    rate = []\n",
    "    for i in range(1, n + 1):\n",
    "        rate.append((i, r\n",
    "[i - 1]))\n",
    "    relation = []\n",
    "    del_rel = []\n",
    "    uf = UnionFind(n)\n",
    "    for i in range(n - 1):\n",
    "        a, b = map(int, input().split(' '))\n",
    "        relation.append((a, b))\n",
    "        uf.union(a, b)\n",
    "    h = []\n",
    "    while uf.sets_count <= m:\n",
    "        print(uf.sets_count)\n",
    "        item = max(rate, key=lambda x: x[1])\n",
    "        # print(\"item:{}\".format(item))\n",
    "        rate.remove(item)\n",
    "        # print(\"rate:{}\".format(rate))\n",
    "        h.append(item[1] + 1)\n",
    "        for i in range(len(relation) - 1, -1, -1):\n",
    "            if relation[i][0] == item[0]:\n",
    "                relation.remove(relation[i])\n",
    "            elif relation[i][1] == item[0]:\n",
    "                relation.remove(relation[i])\n",
    "        # print(\"relation:{}\".format(relation))\n",
    "        uf = UnionFind(n)\n",
    "        for ra in relation:\n",
    "            uf.union(ra[0], ra[1])\n",
    "        # print(uf.sets_count)\n",
    "    print(min(h))\n"
   ]
  },
  {
   "cell_type": "code",
   "execution_count": 7,
   "metadata": {},
   "outputs": [
    {
     "name": "stdout",
     "output_type": "stream",
     "text": [
      "[35, 92, 31, 50, 11]\n"
     ]
    },
    {
     "data": {
      "text/plain": [
       "627"
      ]
     },
     "execution_count": 7,
     "metadata": {},
     "output_type": "execute_result"
    }
   ],
   "source": []
  }
 ],
 "metadata": {
  "interpreter": {
   "hash": "64ee73f182b074c9be2a0489b54aa9ea5559adebcf87b2c55cde9d1b5b71aa30"
  },
  "kernelspec": {
   "display_name": "Python 3.8.3 64-bit ('base': conda)",
   "language": "python",
   "name": "python3"
  },
  "language_info": {
   "codemirror_mode": {
    "name": "ipython",
    "version": 3
   },
   "file_extension": ".py",
   "mimetype": "text/x-python",
   "name": "python",
   "nbconvert_exporter": "python",
   "pygments_lexer": "ipython3",
   "version": "3.8.8"
  },
  "orig_nbformat": 4
 },
 "nbformat": 4,
 "nbformat_minor": 2
}
