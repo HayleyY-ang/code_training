{
 "cells": [
  {
   "cell_type": "code",
   "execution_count": 4,
   "metadata": {},
   "outputs": [
    {
     "data": {
      "text/plain": [
       "array([[0., 0., 0., 0., 0.],\n",
       "       [0., 0., 0., 0., 0.],\n",
       "       [0., 0., 0., 0., 0.],\n",
       "       [0., 0., 0., 0., 0.]])"
      ]
     },
     "execution_count": 4,
     "metadata": {},
     "output_type": "execute_result"
    }
   ],
   "source": [
    "import numpy as np\n"
   ]
  },
  {
   "cell_type": "code",
   "execution_count": 23,
   "metadata": {},
   "outputs": [
    {
     "name": "stdout",
     "output_type": "stream",
     "text": [
      "4\n",
      "6\n",
      "15\n",
      "7746845855\n"
     ]
    }
   ],
   "source": [
    "class Solution:\n",
    "    \n",
    "    def count(self,s,p,dp):\n",
    "        if dp[s][p]!=0:\n",
    "            return dp[s][p]\n",
    "        if s==1:\n",
    "            dp[s][p]=p\n",
    "            return p\n",
    "        if p==1:\n",
    "            dp[s][p]=1\n",
    "            return 1\n",
    "        for k in range(1,p+1):\n",
    "            dp[s][p] = dp[s][p]+self.count(s-1,k,dp)\n",
    "        return dp[s][p]\n",
    "    def FillArray(self , a , k ):\n",
    "        left  = 1\n",
    "        length = 0\n",
    "        ans = 1\n",
    "        dp = [ [ 0 for i in range(k+1) ] for j in range(len(a)+1) ]\n",
    "        for i in range(len(a)):\n",
    "            if a[i]==0:\n",
    "                length+=1\n",
    "            else:\n",
    "                if length!=0:\n",
    "                    ans = ans*self.count(length,a[i]-left+1,dp)\n",
    "                length = 0\n",
    "                left = a[i]\n",
    "        if length!=0:\n",
    "            ans = ans*self.count(length,k-left+1,dp)\n",
    "        return int(ans)\n",
    "\n",
    "s = Solution()\n",
    "print(s.FillArray([0,4,5],6))\n",
    "print(s.FillArray([1,0,0],3))\n",
    "print(s.FillArray([0,0,5],10))\n",
    "print(s.FillArray([0,0,0,0,0,67,0,0],100))\n"
   ]
  },
  {
   "cell_type": "code",
   "execution_count": 6,
   "metadata": {},
   "outputs": [
    {
     "data": {
      "text/plain": [
       "array([[0., 0., 0., 0., 0.],\n",
       "       [0., 0., 0., 0., 0.],\n",
       "       [0., 0., 0., 0., 0.],\n",
       "       [0., 0., 0., 0., 0.]])"
      ]
     },
     "execution_count": 6,
     "metadata": {},
     "output_type": "execute_result"
    }
   ],
   "source": []
  }
 ],
 "metadata": {
  "interpreter": {
   "hash": "64ee73f182b074c9be2a0489b54aa9ea5559adebcf87b2c55cde9d1b5b71aa30"
  },
  "kernelspec": {
   "display_name": "Python 3.8.3 64-bit ('base': conda)",
   "language": "python",
   "name": "python3"
  },
  "language_info": {
   "codemirror_mode": {
    "name": "ipython",
    "version": 3
   },
   "file_extension": ".py",
   "mimetype": "text/x-python",
   "name": "python",
   "nbconvert_exporter": "python",
   "pygments_lexer": "ipython3",
   "version": "3.8.3"
  },
  "orig_nbformat": 4
 },
 "nbformat": 4,
 "nbformat_minor": 2
}
