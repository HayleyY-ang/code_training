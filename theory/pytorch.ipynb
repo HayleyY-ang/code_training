{
 "cells": [],
 "metadata": {
  "interpreter": {
   "hash": "d883e9debe2e95ce769b2428eeee03902ffd36934121b8b95fc5809f7239b6b8"
  },
  "kernelspec": {
   "display_name": "Python 3.8.8 64-bit ('base': conda)",
   "language": "python",
   "name": "python3"
  },
  "language_info": {
   "codemirror_mode": {
    "name": "ipython",
    "version": 3
   },
   "file_extension": ".py",
   "mimetype": "text/x-python",
   "name": "python",
   "nbconvert_exporter": "python",
   "pygments_lexer": "ipython3",
   "version": "3.8.8"
  },
  "orig_nbformat": 4
 },
 "nbformat": 4,
 "nbformat_minor": 2
}
