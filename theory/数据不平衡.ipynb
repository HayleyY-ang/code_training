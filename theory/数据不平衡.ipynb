{
 "cells": [
  {
   "cell_type": "markdown",
   "metadata": {},
   "source": [
    "参考链接:https://curiousily.com/posts/practical-guide-to-handling-imbalanced-datasets/\n",
    "\n",
    "数据：https://www.kaggle.com/c/porto-seguro-safe-driver-prediction/data?select=train.csv"
   ]
  },
  {
   "cell_type": "code",
   "execution_count": 2,
   "metadata": {},
   "outputs": [],
   "source": [
    "import numpy as np\n",
    "import tensorflow as tf\n",
    "from tensorflow import keras\n",
    "import pandas as pd\n",
    "import seaborn as sns\n",
    "\n",
    "RANDOM_SEED = 42\n",
    "np.random.seed(RANDOM_SEED)\n",
    "tf.random.set_seed(RANDOM_SEED)"
   ]
  },
  {
   "cell_type": "code",
   "execution_count": 11,
   "metadata": {},
   "outputs": [],
   "source": [
    "import seaborn as sns"
   ]
  },
  {
   "cell_type": "code",
   "execution_count": 3,
   "metadata": {},
   "outputs": [
    {
     "data": {
      "text/plain": [
       "(595212, 59)"
      ]
     },
     "execution_count": 3,
     "metadata": {},
     "output_type": "execute_result"
    }
   ],
   "source": [
    "df = pd.read_csv('C:\\\\Users\\yanghuilin\\Desktop\\charge\\data\\数据不平衡\\\\train.csv')\n",
    "df.shape"
   ]
  },
  {
   "cell_type": "code",
   "execution_count": 4,
   "metadata": {},
   "outputs": [
    {
     "name": "stderr",
     "output_type": "stream",
     "text": [
      "D:\\Users\\yanghuilin\\anaconda3\\lib\\site-packages\\seaborn\\_decorators.py:36: FutureWarning: Pass the following variable as a keyword arg: x. From version 0.12, the only valid positional argument will be `data`, and passing other arguments without an explicit keyword will result in an error or misinterpretation.\n",
      "  warnings.warn(\n"
     ]
    },
    {
     "data": {
      "image/png": "[encoded data removed]",
      "text/plain": [
       "<Figure size 432x288 with 1 Axes>"
      ]
     },
     "metadata": {
      "needs_background": "light"
     },
     "output_type": "display_data"
    }
   ],
   "source": [
    "sns.countplot(df.target);\n",
    "# 提交索赔和不提交索赔的人比例很不平衡"
   ]
  },
  {
   "cell_type": "markdown",
   "metadata": {},
   "source": [
    "特征中的-1均为缺失值，首先需要处理缺失值"
   ]
  },
  {
   "cell_type": "code",
   "execution_count": 5,
   "metadata": {},
   "outputs": [
    {
     "name": "stdout",
     "output_type": "stream",
     "text": [
      "ps_ind_02_cat - 216 (0.0) rows missing\n",
      "ps_ind_04_cat - 83 (0.0) rows missing\n",
      "ps_ind_05_cat - 5809 (0.01) rows missing\n",
      "ps_reg_03 - 107772 (0.181) rows missing\n",
      "ps_car_01_cat - 107 (0.0) rows missing\n",
      "ps_car_02_cat - 5 (0.0) rows missing\n",
      "ps_car_03_cat - 411231 (0.691) rows missing\n",
      "ps_car_05_cat - 266551 (0.448) rows missing\n",
      "ps_car_07_cat - 11489 (0.019) rows missing\n",
      "ps_car_09_cat - 569 (0.001) rows missing\n",
      "ps_car_11 - 5 (0.0) rows missing\n",
      "ps_car_12 - 1 (0.0) rows missing\n",
      "ps_car_14 - 42620 (0.072) rows missing\n"
     ]
    }
   ],
   "source": [
    "row_count = df.shape[0]\n",
    "for c in df.columns:\n",
    "    m_count = df[df[c]==-1][c].count()\n",
    "    if m_count>0:\n",
    "        print(f'{c} - {m_count} ({round(m_count/row_count,3)}) rows missing')"
   ]
  },
  {
   "cell_type": "code",
   "execution_count": 6,
   "metadata": {},
   "outputs": [],
   "source": [
    "# 有三列缺失值过多直接删除\n",
    "df.drop(['ps_reg_03','ps_car_05_cat','ps_car_05_cat'],inplace=True,axis=1)"
   ]
  },
  {
   "cell_type": "code",
   "execution_count": 7,
   "metadata": {},
   "outputs": [],
   "source": [
    "from sklearn.impute import SimpleImputer\n",
    "\n",
    "cat_columns = ['ps_ind_02_cat', 'ps_ind_04_cat', 'ps_ind_05_cat',\n",
    "  'ps_car_01_cat', 'ps_car_02_cat', 'ps_car_07_cat',\n",
    "  'ps_car_09_cat']\n",
    "num_columns = ['ps_car_11', 'ps_car_12', 'ps_car_14']\n",
    "mean_imp = SimpleImputer(missing_values=-1,strategy='mean')\n",
    "cat_imp = SimpleImputer(missing_values=-1,strategy='most_frequent')\n",
    "for c in cat_columns:\n",
    "    df[c] = cat_imp.fit_transform(df[[c]]).ravel()\n",
    "for c in num_columns:\n",
    "    df[c] = mean_imp.fit_transform(df[[c]]).ravel()"
   ]
  },
  {
   "cell_type": "code",
   "execution_count": 8,
   "metadata": {},
   "outputs": [],
   "source": [
    "# 哑变量设置\n",
    "df = pd.get_dummies(df,columns=cat_columns)"
   ]
  },
  {
   "cell_type": "code",
   "execution_count": 9,
   "metadata": {},
   "outputs": [],
   "source": [
    "from sklearn.model_selection import train_test_split\n",
    "labels = df.columns[2:]\n",
    "X = df[labels]\n",
    "y = df['target']\n",
    "X_train,X_test,y_train,y_test = train_test_split(X,y,test_size = 0.05,random_state=RANDOM_SEED)"
   ]
  },
  {
   "cell_type": "code",
   "execution_count": 10,
   "metadata": {},
   "outputs": [],
   "source": [
    "def build_model(train_data,metrics=['accuracy']):\n",
    "    model = keras.Sequential([keras.layers.Dense(units=36,activation='relu',input_shape=(train_data.shape[-1],)),\n",
    "    keras.layers.BatchNormalization(),\n",
    "    keras.layers.Dropout(0.25),\n",
    "    keras.layers.Dense(units=1,activation='sigmoid'),])\n",
    "    model.compile(optimizer=keras.optimizers.Adam(lr=0.001),\n",
    "    loss=keras.losses.BinaryCrossentropy(),\n",
    "    metrics=metrics)\n",
    "    return model"
   ]
  },
  {
   "cell_type": "code",
   "execution_count": 11,
   "metadata": {},
   "outputs": [],
   "source": [
    "# 通常batch_size = 32 比较好，但是犹豫数据极度不平衡，需要尽可能大使每个size都有提交索赔用户\n",
    "BATCH_SIZE = 2048\n",
    "model = build_model(X_train)\n",
    "history = model.fit(X_train,y_train,batch_size=BATCH_SIZE,epochs = 20,validation_split=0.05,shuffle=True,verbose=0)"
   ]
  },
  {
   "cell_type": "code",
   "execution_count": 12,
   "metadata": {},
   "outputs": [
    {
     "name": "stdout",
     "output_type": "stream",
     "text": [
      "15/15 [==============================] - 0s 2ms/step - loss: 0.1565 - accuracy: 0.9624\n"
     ]
    },
    {
     "data": {
      "text/plain": [
       "[0.15654899179935455, 0.9623668789863586]"
      ]
     },
     "execution_count": 12,
     "metadata": {},
     "output_type": "execute_result"
    }
   ],
   "source": [
    "model.evaluate(X_test,y_test,batch_size=BATCH_SIZE)"
   ]
  },
  {
   "cell_type": "markdown",
   "metadata": {},
   "source": [
    "由于不平衡的数据，不做任何处理的预测不提交索赔也有很高的精确率,几乎一样"
   ]
  },
  {
   "cell_type": "code",
   "execution_count": 13,
   "metadata": {},
   "outputs": [
    {
     "data": {
      "text/plain": [
       "0.9623332549309499"
      ]
     },
     "execution_count": 13,
     "metadata": {},
     "output_type": "execute_result"
    }
   ],
   "source": [
    "from sklearn.metrics import accuracy_score\n",
    "def awesome_model_predict(features):\n",
    "    return np.full((features.shape[0],),0)\n",
    "y_pred = awesome_model_predict(X_test)\n",
    "accuracy_score(y_pred,y_test)"
   ]
  },
  {
   "cell_type": "markdown",
   "metadata": {},
   "source": [
    "我们只是用了错误的度量标准来评估我们的模型。这是一个众所周知的问题。准确性悖论表明，当数据集不平衡时，准确性可能不是正确的度量标准。"
   ]
  },
  {
   "cell_type": "code",
   "execution_count": 18,
   "metadata": {},
   "outputs": [],
   "source": [
    " METRICS = [\n",
    "      keras.metrics.TruePositives(name='tp'),\n",
    "      keras.metrics.FalsePositives(name='fp'),\n",
    "      keras.metrics.TrueNegatives(name='tn'),\n",
    "      keras.metrics.FalseNegatives(name='fn'),\n",
    "      keras.metrics.BinaryAccuracy(name='accuracy'),\n",
    "      keras.metrics.Precision(name='precision'),\n",
    "      keras.metrics.Recall(name='recall'),\n",
    "      keras.metrics.AUC(name='auc'),\n",
    "]\n",
    "\n"
   ]
  },
  {
   "cell_type": "markdown",
   "metadata": {},
   "source": [
    "### 未索赔远小于索赔，可以通过赋予权重来平衡"
   ]
  },
  {
   "cell_type": "code",
   "execution_count": 19,
   "metadata": {},
   "outputs": [],
   "source": [
    "no_claim_count,claim_count = np.bincount(df.target)\n",
    "total_count = len(df.target)\n",
    "\n",
    "weight_no_claim = (1/no_claim_count)*total_count/2.\n",
    "weight_claim = (1/claim_count)*total_count/2.\n",
    "\n",
    "class_weights = {0:weight_no_claim,1:weight_claim}"
   ]
  },
  {
   "cell_type": "code",
   "execution_count": 20,
   "metadata": {},
   "outputs": [],
   "source": [
    "model = build_model(X_train,metrics = METRICS)\n",
    "history = model.fit(X_train,y_train,batch_size = BATCH_SIZE,epochs=20,validation_split=0.05,shuffle=True,verbose=0,class_weight=class_weights)"
   ]
  },
  {
   "cell_type": "code",
   "execution_count": 25,
   "metadata": {},
   "outputs": [
    {
     "name": "stdout",
     "output_type": "stream",
     "text": [
      "15/15 [==============================] - 0s 6ms/step - loss: 0.6991 - tp: 717.0000 - fp: 12817.0000 - tn: 15823.0000 - fn: 404.0000 - accuracy: 0.5558 - precision: 0.0530 - recall: 0.6396 - auc: 0.6317\n"
     ]
    },
    {
     "data": {
      "text/plain": [
       "[0.6990980505943298,\n",
       " 717.0,\n",
       " 12817.0,\n",
       " 15823.0,\n",
       " 404.0,\n",
       " 0.55576092004776,\n",
       " 0.05297768488526344,\n",
       " 0.6396074891090393,\n",
       " 0.6317063570022583]"
      ]
     },
     "execution_count": 25,
     "metadata": {},
     "output_type": "execute_result"
    }
   ],
   "source": [
    "model.evaluate(X_test,y_test,batch_size=BATCH_SIZE)\n"
   ]
  },
  {
   "cell_type": "markdown",
   "metadata": {},
   "source": [
    "### 方法三，重采样技术\n",
    "1. 过度采样，重复采样提交索赔\n",
    "2. 欠采样，随机选取部分未提交索赔\n",
    "3. 生成合成数据"
   ]
  },
  {
   "cell_type": "code",
   "execution_count": 27,
   "metadata": {},
   "outputs": [],
   "source": [
    "X = pd.concat([X_train,y_train],axis=1)\n",
    "no_claim = X[X.target==0]\n",
    "claim = X[X.target==1]"
   ]
  },
  {
   "cell_type": "code",
   "execution_count": 28,
   "metadata": {},
   "outputs": [],
   "source": [
    "# oversample\n",
    "from sklearn.utils import resample\n",
    "\n",
    "claim_upsampled = resample(claim,replace=True,n_samples=len(no_claim),random_state=RANDOM_SEED)"
   ]
  },
  {
   "cell_type": "code",
   "execution_count": 29,
   "metadata": {},
   "outputs": [],
   "source": [
    "# undersample\n",
    "no_claim_downsampled = resample(no_claim,replace=False,n_samples=len(claim),random_state=RANDOM_SEED)"
   ]
  },
  {
   "cell_type": "code",
   "execution_count": 32,
   "metadata": {},
   "outputs": [],
   "source": [
    "# # generating synthetic samples\n",
    "# from imblearn.over_sampling import SMOTE\n",
    "\n",
    "# sm = SMOTE(random_state=RANDOM_SEED,ratio=1.0)\n",
    "# X_train,y_train = sm.fit_sample(X_train,y_train)"
   ]
  }
 ],
 "metadata": {
  "interpreter": {
   "hash": "d883e9debe2e95ce769b2428eeee03902ffd36934121b8b95fc5809f7239b6b8"
  },
  "kernelspec": {
   "display_name": "Python 3.8.8 64-bit ('base': conda)",
   "language": "python",
   "name": "python3"
  },
  "language_info": {
   "codemirror_mode": {
    "name": "ipython",
    "version": 3
   },
   "file_extension": ".py",
   "mimetype": "text/x-python",
   "name": "python",
   "nbconvert_exporter": "python",
   "pygments_lexer": "ipython3",
   "version": "3.8.8"
  },
  "orig_nbformat": 4
 },
 "nbformat": 4,
 "nbformat_minor": 2
}
